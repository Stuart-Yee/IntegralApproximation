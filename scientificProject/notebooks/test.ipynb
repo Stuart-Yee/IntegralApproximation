{
 "cells": [
  {
   "cell_type": "code",
   "execution_count": 13,
   "id": "initial_id",
   "metadata": {
    "collapsed": true,
    "ExecuteTime": {
     "end_time": "2024-09-16T01:06:58.821238200Z",
     "start_time": "2024-09-16T01:06:58.807817800Z"
    }
   },
   "outputs": [],
   "source": [
    "def midpoint_rule(func, interval, subintervals): \n",
    "    \n",
    "    sum = 0\n",
    "    delta_x = (interval[1] - interval[0]) / subintervals\n",
    "    print(\"DeltaX\", delta_x)\n",
    "    \n",
    "    for i in range(1, subintervals+1):\n",
    "        start = interval[0] + (i -1)*delta_x\n",
    "        end = interval[0] +i*delta_x\n",
    "        x = (start+end)/2\n",
    "        print(f\"Interval [{start}, {end}], midpoint = {x}\")\n",
    "        \n",
    "        sum += func(x)\n",
    "    \n",
    "    return delta_x* sum\n",
    "\n",
    "        \n",
    "    \n",
    "    "
   ]
  },
  {
   "cell_type": "code",
   "execution_count": 28,
   "outputs": [
    {
     "name": "stdout",
     "output_type": "stream",
     "text": [
      "first 0\n",
      "x of i = 0.5\n",
      "f(x) f(0.5) = 0.25\n",
      "x of i = 1.0\n",
      "f(x) f(1.0) = 1.0\n",
      "x of i = 1.5\n",
      "f(x) f(1.5) = 2.25\n",
      "Sum f(x1) + ... f(xn) is 3.5\n"
     ]
    },
    {
     "data": {
      "text/plain": "2.75"
     },
     "execution_count": 28,
     "metadata": {},
     "output_type": "execute_result"
    }
   ],
   "source": [
    "def trapezoidal_rule(func, interval, subintervals):\n",
    "    first = func(interval[0])\n",
    "    print(\"first\", first)\n",
    "    sum = 0\n",
    "    delta_x = (interval[1] - interval[0])/subintervals\n",
    "    \n",
    "    for i in range(1, subintervals):\n",
    "        x = interval[0] + i*delta_x\n",
    "        print(f\"x of i = {x}\")\n",
    "        print(f\"f(x) f({x}) = {func(x)}\")\n",
    "        sum += func(x)\n",
    "        \n",
    "    last = func(interval[1])\n",
    "        \n",
    "    print(f\"Sum f(x1) + ... f(xn) is {sum}\")\n",
    "    return (first + 2*sum + last)*(delta_x/2)\n",
    "        \n",
    "        \n",
    "trapezoidal_rule(lambda x: x**2, interval=(0,2), subintervals=4)\n",
    "        "
   ],
   "metadata": {
    "collapsed": false,
    "ExecuteTime": {
     "end_time": "2024-09-16T01:28:13.269073Z",
     "start_time": "2024-09-16T01:28:13.255006400Z"
    }
   },
   "id": "de8bff39f95570ac"
  },
  {
   "cell_type": "code",
   "execution_count": 37,
   "outputs": [
    {
     "name": "stdout",
     "output_type": "stream",
     "text": [
      "delta x 0.5\n",
      "first 0\n",
      "i 1 is odd\n",
      "x of i = 0.5, f(x) f(0.5) = 0.25\n",
      "i 2 is even\n",
      "x of i = 1.0, f(x) f(1.0) = 1.0\n",
      "i 3 is odd\n",
      "x of i = 1.5, f(x) f(1.5) = 2.25\n"
     ]
    },
    {
     "data": {
      "text/plain": "2.6666666666666665"
     },
     "execution_count": 37,
     "metadata": {},
     "output_type": "execute_result"
    }
   ],
   "source": [
    "def simpson_rule(func, interval, subintervals):\n",
    "    delta_x = (interval[1] - interval[0])/subintervals\n",
    "    first = func(interval[0])\n",
    "    last = func(interval[1])\n",
    "    odd_sum = 0\n",
    "    even_sum = 0\n",
    "    print(\"delta x\", delta_x)\n",
    "    print(\"first\", first)\n",
    "    \n",
    "    for i in range(1, subintervals):\n",
    "        x = interval[0] + i*delta_x\n",
    "        result = func(x)\n",
    "        if i%2 == 1:\n",
    "            print(f\"i {i} is odd\")\n",
    "            odd_sum += result\n",
    "        else:\n",
    "            print(f\"i {i} is even\")\n",
    "            even_sum += result\n",
    "        \n",
    "        print(f\"x of i = {x}, f(x) f({x}) = {func(x)}\")\n",
    "    \n",
    "    odd_sum *= 4\n",
    "    even_sum *= 2\n",
    "    \n",
    "    return (delta_x/3)* (first + odd_sum + even_sum + last)\n",
    "        \n",
    "    print(\"last\", last)\n",
    "            \n",
    "simpson_rule(lambda x: x**2, interval=(0,2), subintervals=4)\n",
    "        "
   ],
   "metadata": {
    "collapsed": false,
    "ExecuteTime": {
     "end_time": "2024-09-16T01:59:43.115430500Z",
     "start_time": "2024-09-16T01:59:43.100430700Z"
    }
   },
   "id": "73133dce544e4d20"
  },
  {
   "cell_type": "code",
   "execution_count": 29,
   "outputs": [
    {
     "name": "stdout",
     "output_type": "stream",
     "text": [
      "first 2\n",
      "x of i = 8.0\n",
      "f(x) f(8.0) = 1.0\n",
      "x of i = 9.0\n",
      "f(x) f(9.0) = 0.0\n",
      "x of i = 10.0\n",
      "f(x) f(10.0) = 1.0\n",
      "Sum f(x1) + ... f(xn) is 2.0\n"
     ]
    },
    {
     "data": {
      "text/plain": "4.0"
     },
     "execution_count": 29,
     "metadata": {},
     "output_type": "execute_result"
    }
   ],
   "source": [
    "trapezoidal_rule(lambda x: abs(9-x), (7,11), subintervals=4)"
   ],
   "metadata": {
    "collapsed": false,
    "ExecuteTime": {
     "end_time": "2024-09-16T01:29:22.521605500Z",
     "start_time": "2024-09-16T01:29:22.489221500Z"
    }
   },
   "id": "b2f151dfaf2eddf"
  },
  {
   "cell_type": "code",
   "execution_count": 34,
   "outputs": [
    {
     "name": "stdout",
     "output_type": "stream",
     "text": [
      "first 2\n",
      "x of i = 8.0\n",
      "f(x) f(8.0) = 1.0\n",
      "x of i = 9.0\n",
      "f(x) f(9.0) = 0.0\n",
      "x of i = 10.0\n",
      "f(x) f(10.0) = 1.0\n",
      "Sum f(x1) + ... f(xn) is 2.0\n"
     ]
    },
    {
     "data": {
      "text/plain": "4.0"
     },
     "execution_count": 34,
     "metadata": {},
     "output_type": "execute_result"
    }
   ],
   "source": [
    "trapezoidal_rule(lambda x: abs(9-x), interval=(7,11), subintervals=4)"
   ],
   "metadata": {
    "collapsed": false,
    "ExecuteTime": {
     "end_time": "2024-09-16T01:43:16.958014100Z",
     "start_time": "2024-09-16T01:43:16.952702300Z"
    }
   },
   "id": "a91a7d26b9e5e8c1"
  },
  {
   "cell_type": "code",
   "execution_count": 38,
   "outputs": [
    {
     "name": "stdout",
     "output_type": "stream",
     "text": [
      "delta x 2.0\n",
      "first 0\n",
      "i 1 is odd\n",
      "x of i = 2.0, f(x) f(2.0) = 8.0\n"
     ]
    },
    {
     "data": {
      "text/plain": "64.0"
     },
     "execution_count": 38,
     "metadata": {},
     "output_type": "execute_result"
    }
   ],
   "source": [
    "simpson_rule(lambda x: x**3, interval=(0, 4), subintervals=2)"
   ],
   "metadata": {
    "collapsed": false,
    "ExecuteTime": {
     "end_time": "2024-09-16T01:59:51.206009700Z",
     "start_time": "2024-09-16T01:59:51.186519400Z"
    }
   },
   "id": "69f25f3e89d7b832"
  },
  {
   "cell_type": "code",
   "execution_count": 39,
   "outputs": [
    {
     "data": {
      "text/plain": "0.8414709848078965"
     },
     "execution_count": 39,
     "metadata": {},
     "output_type": "execute_result"
    }
   ],
   "source": [
    "from math import sin\n",
    "sin(1)"
   ],
   "metadata": {
    "collapsed": false,
    "ExecuteTime": {
     "end_time": "2024-09-16T02:14:05.702287400Z",
     "start_time": "2024-09-16T02:14:05.690059300Z"
    }
   },
   "id": "8c8b2083a977a96"
  },
  {
   "cell_type": "code",
   "execution_count": 41,
   "outputs": [
    {
     "name": "stdout",
     "output_type": "stream",
     "text": [
      "first 0.12496087141789115\n",
      "x of i = -1.0\n",
      "f(x) f(-1.0) = 0.12257111522651779\n",
      "x of i = -0.5\n",
      "f(x) f(-0.5) = 0.11736297881448068\n",
      "x of i = 0.0\n",
      "f(x) f(0.0) = 0.1111111111111111\n",
      "x of i = 0.5\n",
      "f(x) f(0.5) = 0.10549162456391263\n",
      "x of i = 1.0\n",
      "f(x) f(1.0) = 0.10161082642459468\n",
      "Sum f(x1) + ... f(xn) is 0.5581476561406169\n"
     ]
    },
    {
     "data": {
      "text/plain": "0.33532031002743723"
     },
     "execution_count": 41,
     "metadata": {},
     "output_type": "execute_result"
    }
   ],
   "source": [
    "trapezoidal_rule(lambda x: 1/(sin(x)+9), interval=(-1.5, 1.5), subintervals=6)"
   ],
   "metadata": {
    "collapsed": false,
    "ExecuteTime": {
     "end_time": "2024-09-16T02:15:43.395500600Z",
     "start_time": "2024-09-16T02:15:43.381039300Z"
    }
   },
   "id": "aa440f9a6310178d"
  },
  {
   "cell_type": "code",
   "execution_count": 42,
   "outputs": [],
   "source": [
    "from math import e as E"
   ],
   "metadata": {
    "collapsed": false,
    "ExecuteTime": {
     "end_time": "2024-09-16T04:41:29.853840100Z",
     "start_time": "2024-09-16T04:41:29.838332200Z"
    }
   },
   "id": "4b617fd7d9f05176"
  },
  {
   "cell_type": "code",
   "execution_count": 43,
   "outputs": [
    {
     "name": "stdout",
     "output_type": "stream",
     "text": [
      "first 1.0\n",
      "x of i = 0.25\n",
      "f(x) f(0.25) = 0.7316156289466418\n",
      "x of i = 0.5\n",
      "f(x) f(0.5) = 0.2865047968601901\n",
      "x of i = 0.75\n",
      "f(x) f(0.75) = 0.06005466789530795\n",
      "Sum f(x1) + ... f(xn) is 1.07817509370214\n"
     ]
    },
    {
     "data": {
      "text/plain": "0.3953860168004207"
     },
     "execution_count": 43,
     "metadata": {},
     "output_type": "execute_result"
    }
   ],
   "source": [
    "trapezoidal_rule(lambda x: E**(-5*(x**2)),interval=(0,1), subintervals=4)"
   ],
   "metadata": {
    "collapsed": false,
    "ExecuteTime": {
     "end_time": "2024-09-16T04:43:13.457179100Z",
     "start_time": "2024-09-16T04:43:13.412811600Z"
    }
   },
   "id": "5890c415832ba8c0"
  },
  {
   "cell_type": "code",
   "execution_count": 44,
   "outputs": [],
   "source": [
    "def p4_func(x):\n",
    "    return E**(-5*(x**2))\n"
   ],
   "metadata": {
    "collapsed": false,
    "ExecuteTime": {
     "end_time": "2024-09-16T04:44:27.732314800Z",
     "start_time": "2024-09-16T04:44:27.718078700Z"
    }
   },
   "id": "c28ca2c4b750e14f"
  },
  {
   "cell_type": "code",
   "execution_count": 45,
   "outputs": [
    {
     "name": "stdout",
     "output_type": "stream",
     "text": [
      "DeltaX 0.25\n",
      "Interval [0.0, 0.25], midpoint = 0.125\n",
      "Interval [0.25, 0.5], midpoint = 0.375\n",
      "Interval [0.5, 0.75], midpoint = 0.625\n",
      "Interval [0.75, 1.0], midpoint = 0.875\n"
     ]
    },
    {
     "data": {
      "text/plain": "0.3958663071435491"
     },
     "execution_count": 45,
     "metadata": {},
     "output_type": "execute_result"
    }
   ],
   "source": [
    "midpoint_rule(p4_func, interval=(0,1), subintervals=4)"
   ],
   "metadata": {
    "collapsed": false,
    "ExecuteTime": {
     "end_time": "2024-09-16T04:50:26.593768400Z",
     "start_time": "2024-09-16T04:50:26.582772800Z"
    }
   },
   "id": "e537f06557deca66"
  },
  {
   "cell_type": "code",
   "execution_count": 46,
   "outputs": [
    {
     "name": "stdout",
     "output_type": "stream",
     "text": [
      "delta x 0.25\n",
      "first 1.0\n",
      "i 1 is odd\n",
      "x of i = 0.25, f(x) f(0.25) = 0.7316156289466418\n",
      "i 2 is even\n",
      "x of i = 0.5, f(x) f(0.5) = 0.2865047968601901\n",
      "i 3 is odd\n",
      "x of i = 0.75, f(x) f(0.75) = 0.06005466789530795\n"
     ]
    },
    {
     "data": {
      "text/plain": "0.3955357273406054"
     },
     "execution_count": 46,
     "metadata": {},
     "output_type": "execute_result"
    }
   ],
   "source": [
    "simpson_rule(p4_func, interval=(0,1), subintervals=4)"
   ],
   "metadata": {
    "collapsed": false,
    "ExecuteTime": {
     "end_time": "2024-09-16T04:55:09.429529700Z",
     "start_time": "2024-09-16T04:55:09.409529600Z"
    }
   },
   "id": "650fc60eb52a9e70"
  },
  {
   "cell_type": "code",
   "execution_count": 56,
   "outputs": [
    {
     "name": "stdout",
     "output_type": "stream",
     "text": [
      "0.00000880686147465308\n"
     ]
    }
   ],
   "source": [
    "def get_error(n):\n",
    "    numerator = 76*E\n",
    "    denominator = 180*(n**4)\n",
    "    return numerator/denominator\n",
    "\n",
    "err = get_error(19)\n",
    "print('{:.20f}'.format(err))"
   ],
   "metadata": {
    "collapsed": false,
    "ExecuteTime": {
     "end_time": "2024-09-16T05:40:17.080389400Z",
     "start_time": "2024-09-16T05:40:17.062961800Z"
    }
   },
   "id": "5fd879207a86e489"
  },
  {
   "cell_type": "code",
   "execution_count": 57,
   "outputs": [
    {
     "name": "stdout",
     "output_type": "stream",
     "text": [
      "first 0\n",
      "x of i = 100.0\n",
      "f(x) f(100.0) = 65\n",
      "x of i = 200.0\n",
      "f(x) f(200.0) = 73\n",
      "x of i = 300.0\n",
      "f(x) f(300.0) = 81\n",
      "x of i = 400.0\n",
      "f(x) f(400.0) = 83\n",
      "x of i = 500.0\n",
      "f(x) f(500.0) = 81\n",
      "x of i = 600.0\n",
      "f(x) f(600.0) = 76\n",
      "x of i = 700.0\n",
      "f(x) f(700.0) = 81\n",
      "x of i = 800.0\n",
      "f(x) f(800.0) = 86\n",
      "x of i = 900.0\n",
      "f(x) f(900.0) = 86\n",
      "Sum f(x1) + ... f(xn) is 712\n"
     ]
    },
    {
     "data": {
      "text/plain": "71200.0"
     },
     "execution_count": 57,
     "metadata": {},
     "output_type": "execute_result"
    }
   ],
   "source": [
    "def fairway(x):\n",
    "    measurements = {\n",
    "        0: 0,\n",
    "        100: 65,\n",
    "        200: 73,\n",
    "        300: 81,\n",
    "        400: 83,\n",
    "        500: 81,\n",
    "        600: 76,\n",
    "        700: 81,\n",
    "        800: 86,\n",
    "        900: 86,\n",
    "        1000: 0\n",
    "    }\n",
    "    return measurements[x]\n",
    "\n",
    "trapezoidal_rule(fairway, interval=(0,1000), subintervals=10)"
   ],
   "metadata": {
    "collapsed": false,
    "ExecuteTime": {
     "end_time": "2024-09-16T06:17:01.535208300Z",
     "start_time": "2024-09-16T06:17:01.522685400Z"
    }
   },
   "id": "5c90a9a6e60a7909"
  },
  {
   "cell_type": "code",
   "execution_count": 58,
   "outputs": [
    {
     "name": "stdout",
     "output_type": "stream",
     "text": [
      "first 5\n",
      "x of i = 1.0\n",
      "f(x) f(1.0) = 6\n",
      "x of i = 2.0\n",
      "f(x) f(2.0) = 8\n",
      "x of i = 3.0\n",
      "f(x) f(3.0) = 6\n",
      "x of i = 4.0\n",
      "f(x) f(4.0) = 5.5\n",
      "x of i = 5.0\n",
      "f(x) f(5.0) = 5\n",
      "Sum f(x1) + ... f(xn) is 30.5\n"
     ]
    },
    {
     "data": {
      "text/plain": "36.5"
     },
     "execution_count": 58,
     "metadata": {},
     "output_type": "execute_result"
    }
   ],
   "source": [
    "def crazy_curve(x):\n",
    "    measurements = {\n",
    "        0: 5,\n",
    "        1: 6,\n",
    "        2: 8,\n",
    "        3: 6,\n",
    "        4: 5.5,\n",
    "        5: 5,\n",
    "        6: 7\n",
    "    }\n",
    "    \n",
    "    return measurements[x]\n",
    "\n",
    "trapezoidal_rule(crazy_curve, interval=(0,6), subintervals=6)"
   ],
   "metadata": {
    "collapsed": false,
    "ExecuteTime": {
     "end_time": "2024-09-16T06:26:25.328062200Z",
     "start_time": "2024-09-16T06:26:25.313057800Z"
    }
   },
   "id": "1580e5bdbcde7629"
  },
  {
   "cell_type": "code",
   "execution_count": 59,
   "outputs": [
    {
     "name": "stdout",
     "output_type": "stream",
     "text": [
      "delta x 1.0\n",
      "first 5\n",
      "i 1 is odd\n",
      "x of i = 1.0, f(x) f(1.0) = 6\n",
      "i 2 is even\n",
      "x of i = 2.0, f(x) f(2.0) = 8\n",
      "i 3 is odd\n",
      "x of i = 3.0, f(x) f(3.0) = 6\n",
      "i 4 is even\n",
      "x of i = 4.0, f(x) f(4.0) = 5.5\n",
      "i 5 is odd\n",
      "x of i = 5.0, f(x) f(5.0) = 5\n"
     ]
    },
    {
     "data": {
      "text/plain": "35.666666666666664"
     },
     "execution_count": 59,
     "metadata": {},
     "output_type": "execute_result"
    }
   ],
   "source": [
    "simpson_rule(crazy_curve, interval=(0,6), subintervals=6)"
   ],
   "metadata": {
    "collapsed": false,
    "ExecuteTime": {
     "end_time": "2024-09-16T06:27:02.497248300Z",
     "start_time": "2024-09-16T06:27:02.478247200Z"
    }
   },
   "id": "b480a0161f9a63dc"
  },
  {
   "cell_type": "code",
   "execution_count": null,
   "outputs": [],
   "source": [],
   "metadata": {
    "collapsed": false
   },
   "id": "649fb7f4a96b476b"
  }
 ],
 "metadata": {
  "kernelspec": {
   "display_name": "Python 3",
   "language": "python",
   "name": "python3"
  },
  "language_info": {
   "codemirror_mode": {
    "name": "ipython",
    "version": 2
   },
   "file_extension": ".py",
   "mimetype": "text/x-python",
   "name": "python",
   "nbconvert_exporter": "python",
   "pygments_lexer": "ipython2",
   "version": "2.7.6"
  }
 },
 "nbformat": 4,
 "nbformat_minor": 5
}
